{
 "cells": [
  {
   "cell_type": "markdown",
   "id": "e9ce4c7b-cfb2-4643-bba8-aad8baaf143e",
   "metadata": {},
   "source": [
    "Grade Notebook\n"
   ]
  },
  {
   "cell_type": "markdown",
   "id": "41a94fb6-cd71-407a-9622-f3591db97d95",
   "metadata": {},
   "source": [
    "This notebook is created for coursera cours. "
   ]
  },
  {
   "cell_type": "markdown",
   "id": "7379564a-d734-4d88-94a6-f15edb715a64",
   "metadata": {},
   "source": [
    "Data Science Languages: \n",
    "\n",
    "R\n",
    "Python\n",
    "C\n",
    "C++ \n",
    "Java\n",
    "Scala "
   ]
  },
  {
   "cell_type": "markdown",
   "id": "e0c8d145-2f56-4615-b4f1-ecb2cc8ba054",
   "metadata": {},
   "source": [
    "Data Science Libraries: \n",
    "\n",
    "Scikitlearn \n",
    "Pandas\n",
    "Tensorflow\n",
    "Pytorch\n",
    "Seaborn \n",
    "Matplotlib \n",
    "Caret \n",
    "etc etc"
   ]
  },
  {
   "cell_type": "markdown",
   "id": "48f4ea5d-36fd-4ef2-9c6f-0ea9c471d06f",
   "metadata": {},
   "source": [
    "## Data Science Tools\n",
    "\n",
    "| Tool             | Description                            |\n",
    "|------------------|----------------------------------------|\n",
    "| Python           | A popular programming language for data science with a rich ecosystem of libraries like NumPy, Pandas, and Scikit-learn. |\n",
    "| R                | Another popular programming language for data analysis and statistics with packages like ggplot2, dplyr, and caret. |\n",
    "| Jupyter Notebook | An interactive computing environment that allows combining code, visualizations, and text. It is widely used for data exploration and analysis. |\n",
    "| TensorFlow       | An open-source machine learning framework developed by Google. It's widely used for building and training deep learning models. |\n",
    "| PyTorch          | An open-source deep learning library primarily developed by Facebook's AI Research lab. It provides dynamic computation graphs and is widely used in research. |\n",
    "| scikit-learn     | A machine learning library in Python that provides various algorithms for classification, regression, clustering, and more. |\n",
    "| XGBoost          | A popular gradient boosting library for Python, R, and other languages. It's known for its high-performance implementation and accuracy. |\n",
    "| Tableau          | A data visualization tool that allows users to create interactive and shareable dashboards and reports. |\n",
    "| Power BI         | A business analytics tool by Microsoft that enables data visualization, business intelligence, and interactive reporting. |\n",
    "| SQL              | A language used for managing and querying relational databases, commonly used for data retrieval and analysis. |\n"
   ]
  },
  {
   "cell_type": "code",
   "execution_count": null,
   "id": "0f843a61-a6c3-462b-a2f6-bea067ceffee",
   "metadata": {},
   "outputs": [],
   "source": [
    "## Arithmetic Expression Examples\n",
    "\n",
    "Arithmetic expressions are mathematical expressions that involve various arithmetic operations, such as addition, subtraction, multiplication, and division. These expressions are commonly used in programming and data analysis to perform calculations.\n",
    "\n",
    "Here are some examples of arithmetic expressions:\n",
    "\n",
    "1. Addition:\n",
    "   - Expression: 3 + 5\n",
    "   - Result: 8\n",
    "\n",
    "2. Subtraction:\n",
    "   - Expression: 10 - 4\n",
    "   - Result: 6\n",
    "\n",
    "3. Multiplication:\n",
    "   - Expression: 2 * 6\n",
    "   - Result: 12\n",
    "\n",
    "4. Division:\n",
    "   - Expression: 20 / 5\n",
    "   - Result: 4\n",
    "\n",
    "5. Combination:\n",
    "   - Expression: (3 + 2) * 4 - 7\n",
    "   - Result: 13\n",
    "\n",
    "Arithmetic expressions can also include variables and functions, making them powerful tools for performing calculations in programming languages like Python, R, and others.\n",
    "\n"
   ]
  },
  {
   "cell_type": "code",
   "execution_count": null,
   "id": "020b3550-c4ea-40f4-9884-b6401b40a87d",
   "metadata": {},
   "outputs": [],
   "source": [
    "# Multiplication\n",
    "num1 = 5\n",
    "num2 = 10\n",
    "result_multiply = num1 * num2\n",
    "print(f\"Multiplication Result: {result_multiply}\")\n",
    "\n",
    "# Addition\n",
    "num3 = 7\n",
    "num4 = 3\n",
    "result_addition = num3 + num4\n",
    "print(f\"Addition Result: {result_addition}\")\n"
   ]
  },
  {
   "cell_type": "code",
   "execution_count": null,
   "id": "fd47bb94-b0df-4726-82a8-ea64e2b0b357",
   "metadata": {},
   "outputs": [],
   "source": [
    "# Convert minutes to hours\n",
    "def minutes_to_hours(minutes):\n",
    "    hours = minutes / 60\n",
    "    return hours\n",
    "\n",
    "# Example usage\n",
    "minutes_input = 150\n",
    "hours_output = minutes_to_hours(minutes_input)\n",
    "print(f\"{minutes_input} minutes is equal to {hours_output:.2f} hours\")\n"
   ]
  },
  {
   "cell_type": "markdown",
   "id": "5bcc4a55-11a3-4b68-a091-a97cc6c880a0",
   "metadata": {},
   "source": [
    "## Project Objectives\n",
    "\n",
    "The main objectives of this project are as follows:\n",
    "\n",
    "1. Explore and demonstrate proficiency in using Jupyter Notebook for data analysis and documentation.\n",
    "\n",
    "2. Showcase knowledge of essential data science tools, programming languages, and libraries.\n",
    "\n",
    "3. Introduce arithmetic expressions and implement basic mathematical operations in code.\n",
    "\n",
    "4. Convert minutes to hours using Python functions.\n",
    "\n",
    "5. Create a table listing various data science tools and their descriptions.\n",
    "\n",
    "6. Provide an introduction to data science and its significance.\n",
    "\n",
    "7. Share the completed notebook on GitHub for version control and sharing.\n",
    "\n",
    "8. Take a screenshot of the first page of the notebook for submission.\n",
    "\n",
    "By accomplishing these objectives, the project aims to demonstrate competence in data science, programming, and effective communication through Jupyter Notebook.\n"
   ]
  },
  {
   "cell_type": "markdown",
   "id": "267c22a2-7de2-43f0-9db3-559eff45deb8",
   "metadata": {},
   "source": [
    "Author's name = Batuhan Erenler "
   ]
  },
  {
   "cell_type": "code",
   "execution_count": null,
   "id": "884681ac-1af2-42de-8877-3a31fe66c16c",
   "metadata": {},
   "outputs": [],
   "source": []
  },
  {
   "cell_type": "code",
   "execution_count": null,
   "id": "9c9ba817-118d-4ad2-9b6d-2e7aebdf1032",
   "metadata": {},
   "outputs": [],
   "source": []
  },
  {
   "cell_type": "code",
   "execution_count": null,
   "id": "fc7928dd-6213-4f2d-8bf3-2bbd5498c0c7",
   "metadata": {},
   "outputs": [],
   "source": []
  },
  {
   "cell_type": "code",
   "execution_count": null,
   "id": "daeed9e5-42cf-41c2-b5ed-bbecd58f3a70",
   "metadata": {},
   "outputs": [],
   "source": []
  },
  {
   "cell_type": "code",
   "execution_count": null,
   "id": "15b9c2bb-71e7-4a09-9656-9f496aa881e0",
   "metadata": {},
   "outputs": [],
   "source": []
  },
  {
   "cell_type": "code",
   "execution_count": null,
   "id": "4e0b968a-07e3-47a4-bb44-2dd46cba585b",
   "metadata": {},
   "outputs": [],
   "source": []
  },
  {
   "cell_type": "code",
   "execution_count": null,
   "id": "22bf1a21-ed7b-4cfb-82d5-77efabba6c06",
   "metadata": {},
   "outputs": [],
   "source": []
  },
  {
   "cell_type": "code",
   "execution_count": null,
   "id": "0fb5993e-8aa1-4ac7-b122-70c9e6176484",
   "metadata": {},
   "outputs": [],
   "source": []
  },
  {
   "cell_type": "code",
   "execution_count": null,
   "id": "d2356b17-2657-4e1f-bbbd-7a22a4f5c6e9",
   "metadata": {},
   "outputs": [],
   "source": []
  }
 ],
 "metadata": {
  "kernelspec": {
   "display_name": "Python 3 (ipykernel)",
   "language": "python",
   "name": "python3"
  },
  "language_info": {
   "codemirror_mode": {
    "name": "ipython",
    "version": 3
   },
   "file_extension": ".py",
   "mimetype": "text/x-python",
   "name": "python",
   "nbconvert_exporter": "python",
   "pygments_lexer": "ipython3",
   "version": "3.9.16"
  }
 },
 "nbformat": 4,
 "nbformat_minor": 5
}
